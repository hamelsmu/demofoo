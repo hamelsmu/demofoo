{
 "cells": [
  {
   "cell_type": "code",
   "execution_count": null,
   "metadata": {},
   "outputs": [],
   "source": [
    "#|default_exp card"
   ]
  },
  {
   "cell_type": "markdown",
   "metadata": {},
   "source": [
    "# Card\n",
    "> A Card in a deck of cards"
   ]
  },
  {
   "cell_type": "code",
   "execution_count": null,
   "metadata": {},
   "outputs": [],
   "source": [
    "#|export\n",
    "class Card:\n",
    "\n",
    "    suits = [\"♣️\", \"♦️\", \"❤️\", \"♠️\"]\n",
    "    ranks = [None, \"A\"] + [str(x) for x in range(2,11)]  + [\"J\", \"Q\", \"K\"]\n",
    "\n",
    "    \"Represents a standard playing card.\"\n",
    "    def __init__(self, suit=0, rank=2):\n",
    "        self.suit = suit\n",
    "        self.rank = rank\n",
    "        self.suit_nm= self.suits[self.suit]\n",
    "        self.rank_nm = self.ranks[self.rank]\n",
    "\n",
    "    def __eq__(self, other): \n",
    "        return (self.suit, self.rank) == (other.suit, other.rank)\n",
    "\n",
    "    def __lt__(self, other): \n",
    "        return (self.suit, self.rank) < (other.suit, other.rank)\n",
    "\n",
    "    def __str__(self): \n",
    "        return f'{self.rank_nm}{self.suit_nm}'\n",
    "    \n",
    "    __repr__ = __str__\n"
   ]
  },
  {
   "cell_type": "code",
   "execution_count": null,
   "metadata": {},
   "outputs": [],
   "source": [
    "\n",
    "\n",
    "c = Card(suit=1, rank=3)"
   ]
  },
  {
   "cell_type": "code",
   "execution_count": null,
   "metadata": {},
   "outputs": [],
   "source": []
  }
 ],
 "metadata": {
  "kernelspec": {
   "display_name": "Python 3",
   "language": "python",
   "name": "python3"
  }
 },
 "nbformat": 4,
 "nbformat_minor": 4
}
